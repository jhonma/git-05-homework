{
 "cells": [
  {
   "cell_type": "markdown",
   "id": "879ff388-e05d-4732-90f6-dee7c1ba3e72",
   "metadata": {},
   "source": [
    "- Jun Homma"
   ]
  },
  {
   "cell_type": "markdown",
   "id": "9fbe1e76-dce1-488b-8dbd-0f9f9aaf9a4b",
   "metadata": {},
   "source": [
    "- Jun 9 2025"
   ]
  },
  {
   "cell_type": "markdown",
   "id": "16515088-bf33-49d6-a9f5-6e2a28e87b55",
   "metadata": {},
   "source": [
    "- Homework 5, Part 1"
   ]
  },
  {
   "cell_type": "markdown",
   "id": "c806a01f-ca53-4caf-a840-5ee217fbd2a0",
   "metadata": {},
   "source": [
    "### GEOCODING WITH GOOGLE AND GEOCODER"
   ]
  },
  {
   "cell_type": "code",
   "execution_count": 8,
   "id": "ced3b71d",
   "metadata": {},
   "outputs": [
    {
     "data": {
      "text/plain": [
       "True"
      ]
     },
     "execution_count": 8,
     "metadata": {},
     "output_type": "execute_result"
    }
   ],
   "source": [
    "from dotenv import load_dotenv\n",
    "import os\n",
    "load_dotenv()  # take environment variables\n",
    "\n",
    "# パスワードやAPI keyを.envに隠すための準備 \n",
    "# https://youtu.be/YdgIWTYQ69A?si=wL_PysxlicBf9qAx&t=217\n",
    "\n",
    "#あとで出てくる　api_key = os.getenv(\"API_KEY\") # 環境変数API_KEYをapi_keyに格納する\n",
    "#.env は .gitignore に追加してください（漏洩防止のため）。<最初から入っていた"
   ]
  },
  {
   "cell_type": "code",
   "execution_count": 9,
   "id": "21162ed1",
   "metadata": {
    "editable": true,
    "slideshow": {
     "slide_type": ""
    },
    "tags": []
   },
   "outputs": [
    {
     "data": {
      "text/plain": [
       "[{'street': '100 Ihwajang-gil',\n",
       "  'city': 'Ihwa-dong',\n",
       "  'state': 'Jongno District',\n",
       "  'postal_code': 'Seoul',\n",
       "  'country': 'South Korea'},\n",
       " {'street': '4 Chome-1-1 Shimomeguro',\n",
       "  'city': ' Meguro City',\n",
       "  'state': 'Tokyo',\n",
       "  'postal_code': '153-0064',\n",
       "  'country': 'Japan'},\n",
       " {'street': '1126 Green Giant Ln',\n",
       "  'city': 'Blue Earth',\n",
       "  'state': 'MN',\n",
       "  'postal_code': '56013',\n",
       "  'country': ''},\n",
       " {'street': '7477 Hubbard Ave',\n",
       "  'city': 'Middleton',\n",
       "  'state': 'WI',\n",
       "  'postal_code': '53562',\n",
       "  'country': None},\n",
       " {'street': 'Wrocławska 12',\n",
       "  'city': '',\n",
       "  'state': 'Poznań',\n",
       "  'postal_code': '61-838',\n",
       "  'country': 'Poland'}]"
      ]
     },
     "execution_count": 9,
     "metadata": {},
     "output_type": "execute_result"
    }
   ],
   "source": [
    "import csv\n",
    "\n",
    "with open('addresses.csv') as fp:\n",
    "    data = list(csv.DictReader(fp))\n",
    "\n",
    "data"
   ]
  },
  {
   "cell_type": "code",
   "execution_count": 10,
   "id": "5e32a9a8",
   "metadata": {},
   "outputs": [
    {
     "name": "stdout",
     "output_type": "stream",
     "text": [
      "'100 Ihwajang-gil, Ihwa-dong, Jongno District, South Korea, Seoul'\n",
      "'4 Chome-1-1 Shimomeguro,  Meguro City, Tokyo, Japan, 153-0064'\n",
      "'1126 Green Giant Ln, Blue Earth, MN, , 56013'\n",
      "'7477 Hubbard Ave, Middleton, WI, None, 53562'\n",
      "'Wrocławska 12, , Poznań, Poland, 61-838'\n"
     ]
    }
   ],
   "source": [
    "import pprint\n",
    "for chunk in data:\n",
    "     pprint.pprint(f\"{chunk['street']}, {chunk['city']}, {chunk['state']}, {chunk['country']}, {chunk['postal_code']}\")\n",
    "\n",
    "    "
   ]
  },
  {
   "cell_type": "code",
   "execution_count": 11,
   "id": "b463675a",
   "metadata": {},
   "outputs": [],
   "source": [
    "import requests\n",
    "import geocoder\n",
    "#import time\n",
    "url = \"https://maps.googleapis.com/maps/api/geocode/json\"\n",
    "api_key = os.getenv(\"API_KEY\") # API_KEYが入っていた場所"
   ]
  },
  {
   "cell_type": "code",
   "execution_count": 12,
   "id": "d648731b",
   "metadata": {
    "editable": true,
    "slideshow": {
     "slide_type": ""
    },
    "tags": []
   },
   "outputs": [
    {
     "data": {
      "text/plain": [
       "[{'street': '100 Ihwajang-gil',\n",
       "  'city': 'Ihwa-dong',\n",
       "  'state': 'Jongno District',\n",
       "  'postal_code': 'Seoul',\n",
       "  'country': 'South Korea',\n",
       "  'lon': 37.5798019,\n",
       "  'lat': 127.0046643},\n",
       " {'street': '4 Chome-1-1 Shimomeguro',\n",
       "  'city': ' Meguro City',\n",
       "  'state': 'Tokyo',\n",
       "  'postal_code': '153-0064',\n",
       "  'country': 'Japan',\n",
       "  'lon': 35.6317048,\n",
       "  'lat': 139.706685},\n",
       " {'street': '1126 Green Giant Ln',\n",
       "  'city': 'Blue Earth',\n",
       "  'state': 'MN',\n",
       "  'postal_code': '56013',\n",
       "  'country': '',\n",
       "  'lon': 43.650971,\n",
       "  'lat': -94.09567899999999},\n",
       " {'street': '7477 Hubbard Ave',\n",
       "  'city': 'Middleton',\n",
       "  'state': 'WI',\n",
       "  'postal_code': '53562',\n",
       "  'country': None,\n",
       "  'lon': 43.0952876,\n",
       "  'lat': -89.51123369999999},\n",
       " {'street': 'Wrocławska 12',\n",
       "  'city': '',\n",
       "  'state': 'Poznań',\n",
       "  'postal_code': '61-838',\n",
       "  'country': 'Poland',\n",
       "  'lon': 52.4065344,\n",
       "  'lat': 16.9327697}]"
      ]
     },
     "execution_count": 12,
     "metadata": {},
     "output_type": "execute_result"
    }
   ],
   "source": [
    "for location in data:\n",
    "    address = '{street}, {city},{state},{postal_code},{country}'.format(**location)\n",
    "    g = geocoder.google(address,key=api_key)\n",
    "\n",
    "    location['lon'] = g.latlng[0] \n",
    "    location['lat'] = g.latlng[1]\n",
    "data\n"
   ]
  },
  {
   "cell_type": "code",
   "execution_count": null,
   "id": "eff2ffa6",
   "metadata": {},
   "outputs": [],
   "source": [
    "# print(f\"https://maps.googleapis.com/maps/api/geocode/json?key={api_key}&address=神奈川県鎌倉市佐助2-14-6\")\n",
    "# # # testcode ---remove after run!"
   ]
  },
  {
   "cell_type": "code",
   "execution_count": 15,
   "id": "9c0d3114",
   "metadata": {},
   "outputs": [],
   "source": [
    "\n",
    "with open('addresses-geocoded.csv', 'w') as fp:\n",
    "    fieldnames=['street','city','state','postal_code','country','lat', 'lon']\n",
    "\n",
    "    writer = csv.DictWriter(fp, fieldnames=fieldnames)\n",
    "    writer.writeheader()\n",
    "    for row in data:\n",
    "            writer.writerow(row)"
   ]
  },
  {
   "cell_type": "code",
   "execution_count": 18,
   "id": "77ef852d",
   "metadata": {},
   "outputs": [
    {
     "data": {
      "text/plain": [
       "[{'street': '100 Ihwajang-gil',\n",
       "  'city': 'Ihwa-dong',\n",
       "  'state': 'Jongno District',\n",
       "  'postal_code': 'Seoul',\n",
       "  'country': 'South Korea',\n",
       "  'lat': '127.0046643',\n",
       "  'lon': '37.5798019'},\n",
       " {'street': '4 Chome-1-1 Shimomeguro',\n",
       "  'city': ' Meguro City',\n",
       "  'state': 'Tokyo',\n",
       "  'postal_code': '153-0064',\n",
       "  'country': 'Japan',\n",
       "  'lat': '139.706685',\n",
       "  'lon': '35.6317048'},\n",
       " {'street': '1126 Green Giant Ln',\n",
       "  'city': 'Blue Earth',\n",
       "  'state': 'MN',\n",
       "  'postal_code': '56013',\n",
       "  'country': '',\n",
       "  'lat': '-94.09567899999999',\n",
       "  'lon': '43.650971'},\n",
       " {'street': '7477 Hubbard Ave',\n",
       "  'city': 'Middleton',\n",
       "  'state': 'WI',\n",
       "  'postal_code': '53562',\n",
       "  'country': '',\n",
       "  'lat': '-89.51123369999999',\n",
       "  'lon': '43.0952876'},\n",
       " {'street': 'Wrocławska 12',\n",
       "  'city': '',\n",
       "  'state': 'Poznań',\n",
       "  'postal_code': '61-838',\n",
       "  'country': 'Poland',\n",
       "  'lat': '16.9327697',\n",
       "  'lon': '52.4065344'}]"
      ]
     },
     "execution_count": 18,
     "metadata": {},
     "output_type": "execute_result"
    }
   ],
   "source": [
    "\n",
    "with open('addresses-geocoded.csv') as fp:\n",
    "    data = list(csv.DictReader(fp))\n",
    "\n",
    "data"
   ]
  },
  {
   "cell_type": "code",
   "execution_count": null,
   "id": "526e73b9",
   "metadata": {},
   "outputs": [],
   "source": []
  }
 ],
 "metadata": {
  "kernelspec": {
   "display_name": "3.12.9",
   "language": "python",
   "name": "python3"
  },
  "language_info": {
   "codemirror_mode": {
    "name": "ipython",
    "version": 3
   },
   "file_extension": ".py",
   "mimetype": "text/x-python",
   "name": "python",
   "nbconvert_exporter": "python",
   "pygments_lexer": "ipython3",
   "version": "3.12.9"
  }
 },
 "nbformat": 4,
 "nbformat_minor": 5
}
